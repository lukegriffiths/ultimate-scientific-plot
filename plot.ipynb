{
 "cells": [
  {
   "cell_type": "markdown",
   "metadata": {},
   "source": [
    "# This is the ultimate scientific figure.\n",
    "\n",
    "Or not.\n",
    "Perhaps a practical scientific figure, with reminders relevant for my personal \n",
    "needs...\n"
   ]
  },
  {
   "cell_type": "markdown",
   "metadata": {},
   "source": [
    "## TODO \n",
    "* set font\n",
    "* many journals advise/require using a sans-serif font for figures, in particular\n",
    "* Arial/Helvetica\n",
    "* third axis\n",
    "* align axes\n",
    "* minor and major ticks\n",
    "* scientific notation\n",
    "* legend, alpha, box contour\n",
    "* date time and rotation of axis\n",
    "\n"
   ]
  },
  {
   "cell_type": "code",
   "execution_count": 8,
   "metadata": {
    "collapsed": true
   },
   "outputs": [],
   "source": [
    "# imports\n",
    "import matplotlib.pyplot as plt\n",
    "import numpy as np\n",
    "import seaborn as sns"
   ]
  },
  {
   "cell_type": "code",
   "execution_count": 10,
   "metadata": {
    "collapsed": true
   },
   "outputs": [],
   "source": [
    "# some functions\n",
    "\n",
    "def set_paper_style():\n",
    "    # This sets reasonable defaults for font size for\n",
    "    # a figure that will go in a paper\n",
    "    sns.set_context(\"paper\", font_scale=1, rc={\"font\":'sans', \"font.size\":10, \n",
    "                                 \"axes.titlesize\":10,\"axes.labelsize\":10,\n",
    "                                 \"xtick.labelsize\":10, \"ytick.labelsize\":10,})   \n",
    "    sns.set_style(\"ticks\") \n",
    "    \n",
    "# to rotate the ticks of a chosen axis. plt.xticks(rotation=90) works if you need\n",
    "# to change only one axis\n",
    "\n",
    "def rotate_ticks():\n",
    "     for tick in ax.get_xticklabels():\n",
    "         tick.set_rotation(90)  "
   ]
  },
  {
   "cell_type": "code",
   "execution_count": 18,
   "metadata": {},
   "outputs": [
    {
     "data": {
      "image/png": "[encoded data removed]",
      "text/plain": [
       "<Figure size 396.85x283.465 with 4 Axes>"
      ]
     },
     "metadata": {},
     "output_type": "display_data"
    }
   ],
   "source": [
    "# use a nice plain style with ticks. For more styles, see:\n",
    "# https://matplotlib.org/gallery/style_sheets/style_sheets_reference.html \n",
    "#plt.style.available to see all available plots\n",
    "plt.style.use('seaborn-ticks')\n",
    "\n",
    "# make list of color tuples, to be used directly in plot\n",
    "# it is nice to use seaborn combined with matplotlib. Seaborn alone is excellent\n",
    "# for quickly making complex plots, although this requires a trade-off in flexibility,\n",
    "# I've found the best approach is to use both.\n",
    "colors = sns.color_palette(\"colorblind\", 10)\n",
    "\n",
    "# to quickly scale figures for different media: paper, notebook (default), poster, talk,\n",
    "# use set_context: https://seaborn.pydata.org/generated/seaborn.set_context.html\n",
    "#sns.set_context(context='poster', font_scale=1, rc=None)\n",
    "\n",
    "# sea seaborn documentaiton on color palettes for more information\n",
    "# https://seaborn.pydata.org/tutorial/color_palettes.html\n",
    "\n",
    "# squeeze as false returns an array of axes, even if there is only one (nrows=ncols=1), which is good if you don't know how many\n",
    "# axes you will need.\n",
    "# sharex or sharey forces same axis limits and ticks for x or y axes.\n",
    "# figure size is in inches\n",
    "# I suggest using subplots, even when you intend on using only one subplot f, ax = subplots()\n",
    "# this is also used here https://realpython.com/python-matplotlib-guide/\n",
    "f, axarr = plt.subplots(nrows=2, ncols=2, figsize=(14/2.54, 10/2.54), squeeze=False, sharex=True, sharey=False)\n",
    "\n",
    "set_paper_style()\n",
    "\n",
    "# f.axes is a list of all the Axes objects (here 2*2=4 objects)\n",
    "for i, ax in enumerate(f.axes):\n",
    "    \n",
    "    # values to plot\n",
    "    x = np.arange(-1,1,0.01)\n",
    "    y1 = np.sin((i+1)*x)\n",
    "    y2 = np.cos((i+1)*x)\n",
    "    \n",
    "    # plot values to current axis\n",
    "    l1 = ax.plot(x, y1, '-', label='sin', zorder=10, color=colors[0])\n",
    "    \n",
    "    # Int arguments, for example 5, puts a marker at every 5th point\n",
    "    # Float arguments put markers at approximately equal distances along the line, at the nearest data point\n",
    "    # Finally, a slice or list/array argument can specify specific marker locations.\n",
    "    # this is good for differentiating lines, visible in black and white. \n",
    "    # However, it should be obvious that the data points are denser than the markers,\n",
    "    # otherwise it looks like you're linking data points!\n",
    "    l2 = ax.plot(x, y2, 'o', ls='--', label='cos', zorder=10, color=colors[1], markevery=0.2)\n",
    "    \n",
    "    # add text to inner top left of the axis. Often this is a good way to add a title \n",
    "    # to a subplot. zorder to put it behind the curve\n",
    "    ax.text(0.15, 0.9, 'Subplot {}'.format(i+1), {'fontsize': 10},\n",
    "             horizontalalignment='center', clip_on=False, transform=ax.transAxes, zorder=-1)\n",
    "    \n",
    "    # when setting axis limits, you can leave one blank, or =None\n",
    "    ax.set_xlim(0,)\n",
    "    ax.set_ylim(-2,2)\n",
    "    \n",
    "    # show grid, but only on the y axis\n",
    "    ax.grid(axis='y')\n",
    "    \n",
    "    # set labels on x and y axis\n",
    "    ax.set_ylabel('Output, A [units]')\n",
    "    # double \\\\ is required for theta, otherwise \\t is understood as TAB\n",
    "    # equations go between $$. Syntax is similar to Latex\n",
    "    ax.set_xlabel('Input, $\\\\theta$ [units]')\n",
    "\n",
    "    # secondary axis on opposite side of graph opposite\n",
    "    ax1 = ax.twinx()\n",
    "    \n",
    "# styling axes\n",
    "for ax in f.axes:\n",
    "    # Hide the right and top spines, otherwise the plot is within a box.\n",
    "    ax.spines['right'].set_visible(False)\n",
    "    ax.spines['top'].set_visible(False)\n",
    "    \n",
    "    # adapted from reply of Mathieu at https://stackoverflow.com/questions/51553545/matplotlib-tick-labels-disappeared-after-set-sharex-in-subplotst \n",
    "    ax.tick_params(\n",
    "    axis='x',           # changes apply to the x-axis\n",
    "    which='both',       # both major and minor ticks are affected\n",
    "    bottom=True,\n",
    "    top=False,\n",
    "    labelbottom=True,\n",
    "    labelsize=8,\n",
    "    )\n",
    "    \n",
    "    \n",
    "# see https://stackoverflow.com/questions/5484922/secondary-axis-with-twinx-how-to-add-to-legend/23647410\n",
    "# make list\n",
    "lines = l1+l2+l3\n",
    "labels = [line.get_label() for line in lines]\n",
    "\n",
    "# Location can be upper and lower, middle, and left or right. Loc = o or 'best' gives best position, considering the lines. \n",
    "ax.legend(lines, labels, loc='lower right', ncol=len(l), facecolor='white', framealpha=0,\n",
    "          bbox_to_anchor=(0, 1.2), edgecolor='w')  \n",
    "\n",
    "# rotate the x axis ticks of the bottom right subplot. This is useful when tick labels are long (e.g. datetime)\n",
    "f.axes[-1].tick_params(axis='x', rotation=30, labelright=True)\n",
    "\n",
    "# if using datetime on the x-axis, then it can be better to use autofmt_xdate.\n",
    "#f.autofmt_xdate(bottom=0.2, rotation=30, ha='right')\n",
    "\n",
    "plt.tight_layout()\n",
    "plt.show()\n"
   ]
  },
  {
   "cell_type": "code",
   "execution_count": null,
   "metadata": {
    "collapsed": true
   },
   "outputs": [],
   "source": [
    "# save current figure as SVG (vectorial) makes it easy to make manual changes later, in Illustrator or Inkscape\n",
    "plt.savefig('output_figure.svg')\n",
    "\n",
    "# save current figure as PNG (bitmap) with given DPI: 300 is generally good for publication (see journal recommendations).\n",
    "plt.savefig('output_figure.png', dpi=300)"
   ]
  }
 ],
 "metadata": {
  "kernelspec": {
   "display_name": "Python 3",
   "language": "python",
   "name": "python3"
  },
  "language_info": {
   "codemirror_mode": {
    "name": "ipython",
    "version": 3
   },
   "file_extension": ".py",
   "mimetype": "text/x-python",
   "name": "python",
   "nbconvert_exporter": "python",
   "pygments_lexer": "ipython3",
   "version": "3.6.4"
  }
 },
 "nbformat": 4,
 "nbformat_minor": 2
}
